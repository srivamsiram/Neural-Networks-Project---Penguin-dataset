{
  "nbformat": 4,
  "nbformat_minor": 0,
  "metadata": {
    "colab": {
      "provenance": []
    },
    "kernelspec": {
      "name": "python3",
      "display_name": "Python 3"
    },
    "language_info": {
      "name": "python"
    }
  },
  "cells": [
    {
      "cell_type": "code",
      "execution_count": null,
      "metadata": {
        "colab": {
          "base_uri": "https://localhost:8080/"
        },
        "id": "Y3z4OJR-YHuD",
        "outputId": "2d29ed18-9ad3-42d2-9ead-f4bd7f8ee2b7"
      },
      "outputs": [
        {
          "output_type": "stream",
          "name": "stdout",
          "text": [
            "Epoch 1/10\n",
            "313/313 [==============================] - 19s 56ms/step - loss: 2.0341 - accuracy: 0.2428 - val_loss: 1.8772 - val_accuracy: 0.3136\n",
            "Epoch 2/10\n",
            "313/313 [==============================] - 20s 63ms/step - loss: 1.8679 - accuracy: 0.3161 - val_loss: 1.8098 - val_accuracy: 0.3463\n",
            "Epoch 3/10\n",
            "313/313 [==============================] - 18s 57ms/step - loss: 1.8130 - accuracy: 0.3403 - val_loss: 1.7695 - val_accuracy: 0.3539\n",
            "Epoch 4/10\n",
            "313/313 [==============================] - 18s 57ms/step - loss: 1.7790 - accuracy: 0.3551 - val_loss: 1.7827 - val_accuracy: 0.3679\n",
            "Epoch 5/10\n",
            "313/313 [==============================] - 21s 66ms/step - loss: 1.7556 - accuracy: 0.3638 - val_loss: 1.7044 - val_accuracy: 0.3945\n",
            "Epoch 6/10\n",
            "313/313 [==============================] - 18s 57ms/step - loss: 1.7263 - accuracy: 0.3759 - val_loss: 1.6693 - val_accuracy: 0.4093\n",
            "Epoch 7/10\n",
            "313/313 [==============================] - 18s 57ms/step - loss: 1.7162 - accuracy: 0.3776 - val_loss: 1.6766 - val_accuracy: 0.4177\n",
            "Epoch 8/10\n",
            "313/313 [==============================] - 20s 65ms/step - loss: 1.6944 - accuracy: 0.3873 - val_loss: 1.6623 - val_accuracy: 0.4024\n",
            "Epoch 9/10\n",
            "313/313 [==============================] - 18s 57ms/step - loss: 1.6882 - accuracy: 0.3925 - val_loss: 1.6532 - val_accuracy: 0.4152\n",
            "Epoch 10/10\n",
            "313/313 [==============================] - 18s 57ms/step - loss: 1.6706 - accuracy: 0.3972 - val_loss: 1.6082 - val_accuracy: 0.4322\n",
            "Epoch 1/10\n",
            "313/313 [==============================] - 38s 120ms/step - loss: 1.9990 - accuracy: 0.2814 - val_loss: 1.8200 - val_accuracy: 0.3440\n",
            "Epoch 2/10\n",
            "313/313 [==============================] - 37s 117ms/step - loss: 1.8244 - accuracy: 0.3381 - val_loss: 1.7499 - val_accuracy: 0.3749\n",
            "Epoch 3/10\n",
            "313/313 [==============================] - 36s 116ms/step - loss: 1.7781 - accuracy: 0.3582 - val_loss: 1.7102 - val_accuracy: 0.3926\n",
            "Epoch 4/10\n",
            "313/313 [==============================] - 40s 128ms/step - loss: 1.7373 - accuracy: 0.3706 - val_loss: 1.6774 - val_accuracy: 0.4061\n",
            "Epoch 5/10\n",
            "313/313 [==============================] - 37s 117ms/step - loss: 1.7099 - accuracy: 0.3819 - val_loss: 1.6738 - val_accuracy: 0.4068\n",
            "Epoch 6/10\n",
            "313/313 [==============================] - 36s 114ms/step - loss: 1.6877 - accuracy: 0.3898 - val_loss: 1.6394 - val_accuracy: 0.4191\n",
            "Epoch 7/10\n",
            "313/313 [==============================] - 37s 120ms/step - loss: 1.6696 - accuracy: 0.3945 - val_loss: 1.6572 - val_accuracy: 0.4050\n",
            "Epoch 8/10\n",
            "313/313 [==============================] - 37s 119ms/step - loss: 1.6582 - accuracy: 0.4006 - val_loss: 1.6131 - val_accuracy: 0.4282\n",
            "Epoch 9/10\n",
            "313/313 [==============================] - 35s 112ms/step - loss: 1.6374 - accuracy: 0.4064 - val_loss: 1.5774 - val_accuracy: 0.4366\n",
            "Epoch 10/10\n",
            "313/313 [==============================] - 38s 121ms/step - loss: 1.6192 - accuracy: 0.4151 - val_loss: 1.5941 - val_accuracy: 0.4367\n",
            "Model 1 - Test Accuracy: 0.43369999527931213\n",
            "Model 2 - Test Accuracy: 0.4383000135421753\n"
          ]
        }
      ],
      "source": [
        "import tensorflow as tf\n",
        "from tensorflow.keras.datasets import cifar10\n",
        "from tensorflow.keras.models import Sequential\n",
        "from tensorflow.keras.layers import Dense, Dropout, Flatten\n",
        "from tensorflow.keras.optimizers import Adam\n",
        "from tensorflow.keras.callbacks import EarlyStopping\n",
        "\n",
        "# Load dataset\n",
        "(x_train, y_train), (x_test, y_test) = cifar10.load_data()\n",
        "x_train = x_train.reshape(x_train.shape[0], -1) / 255.0\n",
        "x_test = x_test.reshape(x_test.shape[0], -1) / 255.0\n",
        "\n",
        "num_classes = 10\n",
        "y_train = tf.keras.utils.to_categorical(y_train, num_classes)\n",
        "y_test = tf.keras.utils.to_categorical(y_test, num_classes)\n",
        "\n",
        "# Model 1: Deeper Neural Network\n",
        "model1 = Sequential([\n",
        "    Dense(512, activation='relu', input_shape=(x_train.shape[1],)),\n",
        "    Dropout(0.2),\n",
        "    Dense(512, activation='relu'),\n",
        "    Dropout(0.2),\n",
        "    Dense(256, activation='relu'),\n",
        "    Dropout(0.2),\n",
        "    Dense(256, activation='relu'),\n",
        "    Dropout(0.2),\n",
        "    Dense(num_classes, activation='softmax')\n",
        "])\n",
        "\n",
        "model1.compile(optimizer=Adam(),\n",
        "               loss='categorical_crossentropy',\n",
        "               metrics=['accuracy'])\n",
        "\n",
        "# Model 2: Wider Neural Network\n",
        "model2 = Sequential([\n",
        "    Dense(1024, activation='relu', input_shape=(x_train.shape[1],)),  # Increased neurons\n",
        "    Dropout(0.2),\n",
        "    Dense(1024, activation='relu'),  # Increased neurons\n",
        "    Dropout(0.2),\n",
        "    Dense(num_classes, activation='softmax')\n",
        "])\n",
        "\n",
        "\n",
        "model2.compile(optimizer=Adam(),\n",
        "               loss='categorical_crossentropy',\n",
        "               metrics=['accuracy'])\n",
        "\n",
        "early_stopping = EarlyStopping(patience=5, restore_best_weights=True)\n",
        "\n",
        "\n",
        "model1.fit(x_train, y_train, epochs=10, batch_size=128, validation_split=0.2, callbacks=[early_stopping])\n",
        "\n",
        "model2.fit(x_train, y_train, epochs=10, batch_size=128, validation_split=0.2, callbacks=[early_stopping])\n",
        "\n",
        "\n",
        "loss1, acc1 = model1.evaluate(x_test, y_test, verbose=0)\n",
        "loss2, acc2 = model2.evaluate(x_test, y_test, verbose=0)\n",
        "\n",
        "\n"
      ]
    },
    {
      "cell_type": "code",
      "source": [
        "print(\"Model 1 - Test Accuracy:\", acc1)\n",
        "print(\"Model 1 - Test loss:\", loss1)\n",
        "print(\"Model 2 - Test Accuracy:\", acc2)\n",
        "print(\"Model 2 - Test loss:\", loss2)"
      ],
      "metadata": {
        "colab": {
          "base_uri": "https://localhost:8080/"
        },
        "id": "8YBiTIpXgRli",
        "outputId": "f0073d47-8de8-45de-b211-3e77e4ae71e6"
      },
      "execution_count": null,
      "outputs": [
        {
          "output_type": "stream",
          "name": "stdout",
          "text": [
            "Model 1 - Test Accuracy: 0.43369999527931213\n",
            "Model 1 - Test loss: 1.5874801874160767\n",
            "Model 2 - Test Accuracy: 0.4383000135421753\n",
            "Model 2 - Test loss: 1.579906940460205\n"
          ]
        }
      ]
    },
    {
      "cell_type": "code",
      "source": [
        "model1.summary()"
      ],
      "metadata": {
        "colab": {
          "base_uri": "https://localhost:8080/"
        },
        "id": "5hxuvNhlnW_0",
        "outputId": "c42ee13d-64e5-44d3-fd8a-3838b78c5a1b"
      },
      "execution_count": null,
      "outputs": [
        {
          "output_type": "stream",
          "name": "stdout",
          "text": [
            "Model: \"sequential_2\"\n",
            "_________________________________________________________________\n",
            " Layer (type)                Output Shape              Param #   \n",
            "=================================================================\n",
            " dense_8 (Dense)             (None, 512)               1573376   \n",
            "                                                                 \n",
            " dropout_6 (Dropout)         (None, 512)               0         \n",
            "                                                                 \n",
            " dense_9 (Dense)             (None, 512)               262656    \n",
            "                                                                 \n",
            " dropout_7 (Dropout)         (None, 512)               0         \n",
            "                                                                 \n",
            " dense_10 (Dense)            (None, 256)               131328    \n",
            "                                                                 \n",
            " dropout_8 (Dropout)         (None, 256)               0         \n",
            "                                                                 \n",
            " dense_11 (Dense)            (None, 256)               65792     \n",
            "                                                                 \n",
            " dropout_9 (Dropout)         (None, 256)               0         \n",
            "                                                                 \n",
            " dense_12 (Dense)            (None, 10)                2570      \n",
            "                                                                 \n",
            "=================================================================\n",
            "Total params: 2035722 (7.77 MB)\n",
            "Trainable params: 2035722 (7.77 MB)\n",
            "Non-trainable params: 0 (0.00 Byte)\n",
            "_________________________________________________________________\n"
          ]
        }
      ]
    },
    {
      "cell_type": "code",
      "source": [
        "model2.summary()\n"
      ],
      "metadata": {
        "colab": {
          "base_uri": "https://localhost:8080/"
        },
        "id": "sMvvPE7fnbzn",
        "outputId": "3643992e-fcbc-44f1-de90-42fa8346eae4"
      },
      "execution_count": null,
      "outputs": [
        {
          "output_type": "stream",
          "name": "stdout",
          "text": [
            "Model: \"sequential_3\"\n",
            "_________________________________________________________________\n",
            " Layer (type)                Output Shape              Param #   \n",
            "=================================================================\n",
            " dense_13 (Dense)            (None, 1024)              3146752   \n",
            "                                                                 \n",
            " dropout_10 (Dropout)        (None, 1024)              0         \n",
            "                                                                 \n",
            " dense_14 (Dense)            (None, 1024)              1049600   \n",
            "                                                                 \n",
            " dropout_11 (Dropout)        (None, 1024)              0         \n",
            "                                                                 \n",
            " dense_15 (Dense)            (None, 10)                10250     \n",
            "                                                                 \n",
            "=================================================================\n",
            "Total params: 4206602 (16.05 MB)\n",
            "Trainable params: 4206602 (16.05 MB)\n",
            "Non-trainable params: 0 (0.00 Byte)\n",
            "_________________________________________________________________\n"
          ]
        }
      ]
    }
  ]
}